{
 "cells": [
  {
   "cell_type": "markdown",
   "metadata": {},
   "source": [
    "# Traffic Sign Classification with Keras\n",
    "\n",
    "Keras exists to make coding deep neural networks simpler. To demonstrate just how easy it is, you’re going to use Keras to build a convolutional neural network in a few dozen lines of code.\n",
    "\n",
    "You’ll be connecting the concepts from the previous lessons to the methods that Keras provides."
   ]
  },
  {
   "cell_type": "markdown",
   "metadata": {},
   "source": [
    "## Dataset\n",
    "\n",
    "The network you'll build with Keras is similar to the example that you can find in Keras’s GitHub repository that builds out a [convolutional neural network for MNIST](https://github.com/fchollet/keras/blob/master/examples/mnist_cnn.py). \n",
    "\n",
    "However, instead of using the [MNIST](http://yann.lecun.com/exdb/mnist/) dataset, you're going to use the [German Traffic Sign Recognition Benchmark](http://benchmark.ini.rub.de/?section=gtsrb&subsection=news) dataset that you've used previously.\n",
    "\n",
    "You can download pickle files with sanitized traffic sign data here."
   ]
  },
  {
   "cell_type": "markdown",
   "metadata": {},
   "source": [
    "## Overview\n",
    "\n",
    "Here are the steps you'll take to build the network:\n",
    "\n",
    "1. First load the training data and do a train/validation split.\n",
    "2. Preprocess data.\n",
    "3. Build a feedforward neural network to classify traffic signs.\n",
    "4. Build a convolutional neural network to classify traffic signs.\n",
    "5. Evaluate performance of final neural network on testing data.\n",
    "\n",
    "Keep an eye on the network’s accuracy over time. Once the accuracy reaches the 98% range, you can be confident that you’ve built and trained an effective model."
   ]
  },
  {
   "cell_type": "code",
   "execution_count": 10,
   "metadata": {
    "collapsed": false
   },
   "outputs": [],
   "source": [
    "import pickle\n",
    "import numpy as np\n",
    "from sklearn.model_selection import train_test_split\n",
    "import math"
   ]
  },
  {
   "cell_type": "markdown",
   "metadata": {},
   "source": [
    "## Load the Data\n",
    "\n",
    "Start by importing the data from the pickle file."
   ]
  },
  {
   "cell_type": "code",
   "execution_count": 11,
   "metadata": {
    "collapsed": false
   },
   "outputs": [],
   "source": [
    "# TODO: Implement load the data here.\n",
    "import pickle\n",
    "import numpy as np\n",
    "\n",
    "training_file = 'train.p'\n",
    "testing_file = 'test.p'\n",
    "\n",
    "with open(training_file, mode='rb') as f:\n",
    "    train = pickle.load(f)\n",
    "with open(testing_file, mode='rb') as f:\n",
    "    test = pickle.load(f)\n",
    "    \n",
    "X_train, y_train = train['features'], train['labels']\n",
    "X_test, y_test = test['features'], test['labels']\n",
    "\n",
    "original_y_train = y_train\n",
    "setOfLabels = set(y_train)\n",
    "X_train_mean = np.mean(X_train)\n",
    "\n",
    "# Free up memory\n",
    "del train  \n",
    "del test"
   ]
  },
  {
   "cell_type": "markdown",
   "metadata": {},
   "source": [
    "## Validate the Network\n",
    "Split the training data into a training and validation set.\n",
    "\n",
    "Measure the [validation accuracy](https://keras.io/models/sequential/) of the network after two training epochs.\n",
    "\n",
    "Hint: [Use the `train_test_split()` method](http://scikit-learn.org/stable/modules/generated/sklearn.model_selection.train_test_split.html) from scikit-learn."
   ]
  },
  {
   "cell_type": "code",
   "execution_count": 12,
   "metadata": {
    "collapsed": true
   },
   "outputs": [],
   "source": [
    "# TODO: Use `train_test_split` here.\n",
    "from sklearn.model_selection import train_test_split\n",
    "\n",
    "# Get randomized datasets for training and validation\n",
    "X_train, X_val, y_train, y_val = train_test_split(\n",
    "    X_train,\n",
    "    y_train,\n",
    "    test_size=0.10,\n",
    "    random_state=0)\n"
   ]
  },
  {
   "cell_type": "code",
   "execution_count": 13,
   "metadata": {
    "collapsed": false
   },
   "outputs": [],
   "source": [
    "# STOP: Do not change the tests below. Your implementation should pass these tests. \n",
    "assert(X_train.shape[0] == y_train.shape[0]), \"The number of images is not equal to the number of labels.\"\n",
    "assert(X_train.shape[1:] == (32,32,3)), \"The dimensions of the images are not 32 x 32 x 3.\"\n",
    "assert(X_val.shape[0] == y_val.shape[0]), \"The number of images is not equal to the number of labels.\"\n",
    "assert(X_val.shape[1:] == (32,32,3)), \"The dimensions of the images are not 32 x 32 x 3.\""
   ]
  },
  {
   "cell_type": "markdown",
   "metadata": {},
   "source": [
    "## Preprocess the Data\n",
    "\n",
    "Now that you've loaded the training data, preprocess the data such that it's in the range between -0.5 and 0.5."
   ]
  },
  {
   "cell_type": "code",
   "execution_count": 14,
   "metadata": {
    "collapsed": false
   },
   "outputs": [],
   "source": [
    "# TODO: Implement data normalization here.\n",
    "def normalize_greyscale(image_data):\n",
    "    \"\"\"\n",
    "    Normalize the image data with Min-Max scaling to a range of [0.1, 0.9]\n",
    "    :param image_data: The image data to be normalized\n",
    "    :return: Normalized image data\n",
    "    \"\"\"\n",
    "    output_array = []\n",
    "    a = -0.5\n",
    "    b = 0.5\n",
    "    x_max = 255\n",
    "    x_min = 0\n",
    "\n",
    "    return  a+(((image_data - x_min)*(b - a))/(x_max - x_min)) \n",
    "\n",
    "X_train = normalize_greyscale(X_train)\n",
    "X_val = normalize_greyscale(X_val)\n",
    "X_test = normalize_greyscale(X_test)"
   ]
  },
  {
   "cell_type": "code",
   "execution_count": 15,
   "metadata": {
    "collapsed": false
   },
   "outputs": [],
   "source": [
    "# STOP: Do not change the tests below. Your implementation should pass these tests. \n",
    "assert(math.isclose(np.min(X_train), -0.5, abs_tol=1e-5) and math.isclose(np.max(X_train), 0.5, abs_tol=1e-5)), \"The range of the training data is: %.1f to %.1f\" % (np.min(X_train), np.max(X_train))\n",
    "assert(math.isclose(np.min(X_val), -0.5, abs_tol=1e-5) and math.isclose(np.max(X_val), 0.5, abs_tol=1e-5)), \"The range of the validation data is: %.1f to %.1f\" % (np.min(X_val), np.max(X_val))"
   ]
  },
  {
   "cell_type": "markdown",
   "metadata": {},
   "source": [
    "## Build a Two-Layer Feedfoward Network\n",
    "\n",
    "The code you've written so far is for data processing, not specific to Keras. Here you're going to build Keras-specific code.\n",
    "\n",
    "Build a two-layer feedforward neural network, with 128 neurons in the fully-connected hidden layer. \n",
    "\n",
    "To get started, review the Keras documentation about [models](https://keras.io/models/sequential/) and [layers](https://keras.io/layers/core/).\n",
    "\n",
    "The Keras example of a [Multi-Layer Perceptron](https://github.com/fchollet/keras/blob/master/examples/mnist_mlp.py) network is similar to what you need to do here. Use that as a guide, but keep in mind that there are a number of differences."
   ]
  },
  {
   "cell_type": "code",
   "execution_count": 16,
   "metadata": {
    "collapsed": false
   },
   "outputs": [
    {
     "name": "stderr",
     "output_type": "stream",
     "text": [
      "Using TensorFlow backend.\n"
     ]
    }
   ],
   "source": [
    "# TODO: Build a two-layer feedforward neural network with Keras here.\n",
    "from keras.models import Sequential\n",
    "from keras.layers import Dense, Input, Activation\n",
    "\n",
    "model = Sequential()\n",
    "model.add(Dense(128, activation='relu', input_shape=(32*32*3,)))\n",
    "model.add(Dense(43, activation='softmax'))"
   ]
  },
  {
   "cell_type": "code",
   "execution_count": 17,
   "metadata": {
    "collapsed": true
   },
   "outputs": [],
   "source": [
    "# STOP: Do not change the tests below. Your implementation should pass these tests.\n",
    "dense_layers = []\n",
    "for l in model.layers:\n",
    "    if type(l) == Dense:\n",
    "        dense_layers.append(l)\n",
    "assert(len(dense_layers) == 2), \"There should be 2 Dense layers.\"\n",
    "d1 = dense_layers[0]\n",
    "d2 = dense_layers[1]\n",
    "assert(d1.input_shape == (None, 3072))\n",
    "assert(d1.output_shape == (None, 128))\n",
    "assert(d2.input_shape == (None, 128))\n",
    "assert(d2.output_shape == (None, 43))\n",
    "\n",
    "last_layer = model.layers[-1]\n",
    "assert(last_layer.activation.__name__ == 'softmax'), \"Last layer should be softmax activation, is {}.\".format(last_layer.activation.__name__)"
   ]
  },
  {
   "cell_type": "code",
   "execution_count": 18,
   "metadata": {
    "collapsed": false
   },
   "outputs": [
    {
     "name": "stdout",
     "output_type": "stream",
     "text": [
      "dense_1 (None, 3072) (None, 128) <function relu at 0x7f637be15950>\n",
      "dense_2 (None, 128) (None, 43) <function softmax at 0x7f637be15730>\n"
     ]
    }
   ],
   "source": [
    "# Debugging\n",
    "for l in model.layers:\n",
    "    print(l.name, l.input_shape, l.output_shape, l.activation)"
   ]
  },
  {
   "cell_type": "markdown",
   "metadata": {},
   "source": [
    "## Train the Network\n",
    "Compile and train the network for 2 epochs. [Use the `adam` optimizer, with `categorical_crossentropy` loss.](https://keras.io/models/sequential/)\n",
    "\n",
    "Hint 1: In order to use categorical cross entropy, you will need to [one-hot encode the labels](https://github.com/fchollet/keras/blob/master/keras/utils/np_utils.py).\n",
    "\n",
    "Hint 2: In order to pass the input images to the fully-connected hidden layer, you will need to [reshape the input](https://github.com/fchollet/keras/blob/master/examples/mnist_mlp.py).\n",
    "\n",
    "Hint 3: Keras's `.fit()` method returns a `History.history` object, which the tests below use. Save that to a variable named `history`."
   ]
  },
  {
   "cell_type": "code",
   "execution_count": 19,
   "metadata": {
    "collapsed": false
   },
   "outputs": [
    {
     "name": "stdout",
     "output_type": "stream",
     "text": [
      "____________________________________________________________________________________________________\n",
      "Layer (type)                     Output Shape          Param #     Connected to                     \n",
      "====================================================================================================\n",
      "dense_1 (Dense)                  (None, 128)           393344      dense_input_1[0][0]              \n",
      "____________________________________________________________________________________________________\n",
      "dense_2 (Dense)                  (None, 43)            5547        dense_1[0][0]                    \n",
      "====================================================================================================\n",
      "Total params: 398891\n",
      "____________________________________________________________________________________________________\n",
      "Train on 35288 samples, validate on 3921 samples\n",
      "Epoch 1/20\n",
      "35288/35288 [==============================] - 2s - loss: 1.7031 - acc: 0.5561 - val_loss: 1.0349 - val_acc: 0.6863\n",
      "Epoch 2/20\n",
      "35288/35288 [==============================] - 2s - loss: 0.7971 - acc: 0.7930 - val_loss: 0.7078 - val_acc: 0.7881\n",
      "Epoch 3/20\n",
      "35288/35288 [==============================] - 2s - loss: 0.5429 - acc: 0.8635 - val_loss: 0.5001 - val_acc: 0.8656\n",
      "Epoch 4/20\n",
      "35288/35288 [==============================] - 2s - loss: 0.4370 - acc: 0.8891 - val_loss: 0.4429 - val_acc: 0.8812\n",
      "Epoch 5/20\n",
      "35288/35288 [==============================] - 2s - loss: 0.3691 - acc: 0.9048 - val_loss: 0.3825 - val_acc: 0.9056\n",
      "Epoch 6/20\n",
      "35288/35288 [==============================] - 2s - loss: 0.3308 - acc: 0.9133 - val_loss: 0.3968 - val_acc: 0.8776\n",
      "Epoch 7/20\n",
      "35288/35288 [==============================] - 2s - loss: 0.2993 - acc: 0.9209 - val_loss: 0.3245 - val_acc: 0.9153\n",
      "Epoch 8/20\n",
      "35288/35288 [==============================] - 2s - loss: 0.2540 - acc: 0.9340 - val_loss: 0.3414 - val_acc: 0.9010\n",
      "Epoch 9/20\n",
      "35288/35288 [==============================] - 2s - loss: 0.2339 - acc: 0.9381 - val_loss: 0.3178 - val_acc: 0.9128\n",
      "Epoch 10/20\n",
      "35288/35288 [==============================] - 2s - loss: 0.2327 - acc: 0.9375 - val_loss: 0.2668 - val_acc: 0.9268\n",
      "Epoch 11/20\n",
      "35288/35288 [==============================] - 2s - loss: 0.2026 - acc: 0.9463 - val_loss: 0.3168 - val_acc: 0.9046\n",
      "Epoch 12/20\n",
      "35288/35288 [==============================] - 2s - loss: 0.2029 - acc: 0.9455 - val_loss: 0.2413 - val_acc: 0.9385\n",
      "Epoch 13/20\n",
      "35288/35288 [==============================] - 2s - loss: 0.2044 - acc: 0.9432 - val_loss: 0.2796 - val_acc: 0.9184\n",
      "Epoch 14/20\n",
      "35288/35288 [==============================] - 2s - loss: 0.1872 - acc: 0.9492 - val_loss: 0.2755 - val_acc: 0.9186\n",
      "Epoch 15/20\n",
      "35288/35288 [==============================] - 2s - loss: 0.1768 - acc: 0.9512 - val_loss: 0.2188 - val_acc: 0.9431\n",
      "Epoch 16/20\n",
      "35288/35288 [==============================] - 2s - loss: 0.1591 - acc: 0.9564 - val_loss: 0.2158 - val_acc: 0.9413\n",
      "Epoch 17/20\n",
      "35288/35288 [==============================] - 2s - loss: 0.1461 - acc: 0.9603 - val_loss: 0.2224 - val_acc: 0.9375\n",
      "Epoch 18/20\n",
      "35288/35288 [==============================] - 2s - loss: 0.1447 - acc: 0.9602 - val_loss: 0.2247 - val_acc: 0.9368\n",
      "Epoch 19/20\n",
      "35288/35288 [==============================] - 2s - loss: 0.1521 - acc: 0.9596 - val_loss: 0.2641 - val_acc: 0.9212\n",
      "Epoch 20/20\n",
      "35288/35288 [==============================] - 2s - loss: 0.1454 - acc: 0.9594 - val_loss: 0.2116 - val_acc: 0.9424\n"
     ]
    }
   ],
   "source": [
    "# TODO: Compile and train the model here.\n",
    "from keras.utils import np_utils\n",
    "\n",
    "Y_train = np_utils.to_categorical(y_train, 43)\n",
    "Y_val = np_utils.to_categorical(y_val, 43)\n",
    "\n",
    "X_train_flat = X_train.reshape(-1, 32*32*3)\n",
    "X_val_flat = X_val.reshape(-1, 32*32*3)\n",
    "\n",
    "model.summary()\n",
    "# TODO: Compile and train the model here.\n",
    "model.compile(loss='categorical_crossentropy',\n",
    "              optimizer='adam',\n",
    "              metrics=['accuracy'])\n",
    "history = model.fit(X_train_flat, Y_train,\n",
    "                    batch_size=128, nb_epoch=20,\n",
    "                    verbose=1, validation_data=(X_val_flat, Y_val))"
   ]
  },
  {
   "cell_type": "code",
   "execution_count": 20,
   "metadata": {
    "collapsed": true
   },
   "outputs": [],
   "source": [
    "# STOP: Do not change the tests below. Your implementation should pass these tests.\n",
    "assert(history.history['acc'][-1] > 0.92), \"The training accuracy was: %.3f\" % history.history['acc'][-1]\n",
    "assert(history.history['val_acc'][-1] > 0.9), \"The validation accuracy is: %.3f\" % history.history['val_acc'][-1]"
   ]
  },
  {
   "cell_type": "markdown",
   "metadata": {},
   "source": [
    "**Validation Accuracy**: 0.9240"
   ]
  },
  {
   "cell_type": "markdown",
   "metadata": {},
   "source": [
    "## Congratulations\n",
    "You've built a feedforward neural network in Keras!\n",
    "\n",
    "Don't stop here! Next, you'll add a convolutional layer to drive.py."
   ]
  },
  {
   "cell_type": "markdown",
   "metadata": {},
   "source": [
    "## Convolutions\n",
    "Build a new network, similar to your existing network. Before the hidden layer, add a 3x3 [convolutional layer](https://keras.io/layers/convolutional/#convolution2d) with 32 filters and valid padding.\n",
    "\n",
    "Then compile and train the network.\n",
    "\n",
    "Hint 1: The Keras example of a [convolutional neural network](https://github.com/fchollet/keras/blob/master/examples/mnist_cnn.py) for MNIST would be a good example to review.\n",
    "\n",
    "Hint 2: Now that the first layer of the network is a convolutional layer, you no longer need to reshape the input images before passing them to the network. You might need to reload your training data to recover the original shape.\n",
    "\n",
    "Hint 3: Add a [`Flatten()` layer](https://keras.io/layers/core/#flatten) between the convolutional layer and the fully-connected hidden layer."
   ]
  },
  {
   "cell_type": "code",
   "execution_count": 21,
   "metadata": {
    "collapsed": false
   },
   "outputs": [
    {
     "name": "stdout",
     "output_type": "stream",
     "text": [
      "____________________________________________________________________________________________________\n",
      "Layer (type)                     Output Shape          Param #     Connected to                     \n",
      "====================================================================================================\n",
      "convolution2d_1 (Convolution2D)  (None, 30, 30, 32)    896         convolution2d_input_1[0][0]      \n",
      "____________________________________________________________________________________________________\n",
      "flatten_1 (Flatten)              (None, 28800)         0           convolution2d_1[0][0]            \n",
      "____________________________________________________________________________________________________\n",
      "dense_3 (Dense)                  (None, 128)           3686528     flatten_1[0][0]                  \n",
      "____________________________________________________________________________________________________\n",
      "dense_4 (Dense)                  (None, 43)            5547        dense_3[0][0]                    \n",
      "====================================================================================================\n",
      "Total params: 3692971\n",
      "____________________________________________________________________________________________________\n",
      "Train on 35288 samples, validate on 3921 samples\n",
      "Epoch 1/20\n",
      "35288/35288 [==============================] - 18s - loss: 1.1627 - acc: 0.7017 - val_loss: 0.4242 - val_acc: 0.8822\n",
      "Epoch 2/20\n",
      "35288/35288 [==============================] - 17s - loss: 0.2753 - acc: 0.9307 - val_loss: 0.2607 - val_acc: 0.9317\n",
      "Epoch 3/20\n",
      "35288/35288 [==============================] - 17s - loss: 0.1415 - acc: 0.9673 - val_loss: 0.1646 - val_acc: 0.9577\n",
      "Epoch 4/20\n",
      "35288/35288 [==============================] - 17s - loss: 0.0954 - acc: 0.9771 - val_loss: 0.1449 - val_acc: 0.9663\n",
      "Epoch 5/20\n",
      "35288/35288 [==============================] - 17s - loss: 0.0631 - acc: 0.9857 - val_loss: 0.1292 - val_acc: 0.9691\n",
      "Epoch 6/20\n",
      "35288/35288 [==============================] - 17s - loss: 0.0470 - acc: 0.9898 - val_loss: 0.1567 - val_acc: 0.9633\n",
      "Epoch 7/20\n",
      "35288/35288 [==============================] - 17s - loss: 0.0399 - acc: 0.9909 - val_loss: 0.1426 - val_acc: 0.9674\n",
      "Epoch 8/20\n",
      "35288/35288 [==============================] - 17s - loss: 0.0439 - acc: 0.9891 - val_loss: 0.1244 - val_acc: 0.9714\n",
      "Epoch 9/20\n",
      "35288/35288 [==============================] - 17s - loss: 0.0276 - acc: 0.9941 - val_loss: 0.1208 - val_acc: 0.9735\n",
      "Epoch 10/20\n",
      "35288/35288 [==============================] - 17s - loss: 0.0285 - acc: 0.9931 - val_loss: 0.1253 - val_acc: 0.9709\n",
      "Epoch 11/20\n",
      "35288/35288 [==============================] - 17s - loss: 0.0266 - acc: 0.9934 - val_loss: 0.1285 - val_acc: 0.9727\n",
      "Epoch 12/20\n",
      "35288/35288 [==============================] - 17s - loss: 0.0168 - acc: 0.9960 - val_loss: 0.1132 - val_acc: 0.9773\n",
      "Epoch 13/20\n",
      "35288/35288 [==============================] - 17s - loss: 0.0139 - acc: 0.9969 - val_loss: 0.1066 - val_acc: 0.9796\n",
      "Epoch 14/20\n",
      "35288/35288 [==============================] - 17s - loss: 0.0129 - acc: 0.9973 - val_loss: 0.1760 - val_acc: 0.9648\n",
      "Epoch 15/20\n",
      "35288/35288 [==============================] - 17s - loss: 0.0304 - acc: 0.9915 - val_loss: 0.1329 - val_acc: 0.9725\n",
      "Epoch 16/20\n",
      "35288/35288 [==============================] - 17s - loss: 0.0289 - acc: 0.9919 - val_loss: 0.1579 - val_acc: 0.9689\n",
      "Epoch 17/20\n",
      "35288/35288 [==============================] - 17s - loss: 0.0181 - acc: 0.9955 - val_loss: 0.1330 - val_acc: 0.9750\n",
      "Epoch 18/20\n",
      "35288/35288 [==============================] - 17s - loss: 0.0094 - acc: 0.9979 - val_loss: 0.1150 - val_acc: 0.9793\n",
      "Epoch 19/20\n",
      "35288/35288 [==============================] - 17s - loss: 0.0034 - acc: 0.9996 - val_loss: 0.1079 - val_acc: 0.9814\n",
      "Epoch 20/20\n",
      "35288/35288 [==============================] - 17s - loss: 0.0053 - acc: 0.9988 - val_loss: 0.1227 - val_acc: 0.9788\n"
     ]
    }
   ],
   "source": [
    "# TODO: Re-construct the network and add a convolutional layer before the first fully-connected layer.\n",
    "# TODO: Compile and train the model here.\n",
    "# NOTE: RELOAD DATA & NORMALIZE BEFORE RUNNING \n",
    "from keras.layers import Conv2D, Flatten\n",
    "\n",
    "Y_train = np_utils.to_categorical(y_train, 43)\n",
    "Y_val = np_utils.to_categorical(y_val, 43)\n",
    "\n",
    "\n",
    "model = Sequential()\n",
    "model.add(Conv2D(32, 3, 3, input_shape=(32, 32, 3), activation='relu'))\n",
    "model.add(Flatten())\n",
    "model.add(Dense(128, activation='relu'))\n",
    "model.add(Dense(43, activation='softmax'))\n",
    "\n",
    "model.summary()\n",
    "# TODO: Compile and train the model here.\n",
    "model.compile(loss='categorical_crossentropy',\n",
    "              optimizer='adam',\n",
    "              metrics=['accuracy'])\n",
    "history = model.fit(X_train, Y_train,\n",
    "                    batch_size=128, nb_epoch=20,\n",
    "                    verbose=1, validation_data=(X_val, Y_val))"
   ]
  },
  {
   "cell_type": "code",
   "execution_count": 22,
   "metadata": {
    "collapsed": true
   },
   "outputs": [],
   "source": [
    "# STOP: Do not change the tests below. Your implementation should pass these tests.\n",
    "assert(history.history['val_acc'][-1] > 0.95), \"The validation accuracy is: %.3f\" % history.history['val_acc'][-1]"
   ]
  },
  {
   "cell_type": "markdown",
   "metadata": {},
   "source": [
    "**Validation Accuracy**: 0.9709"
   ]
  },
  {
   "cell_type": "markdown",
   "metadata": {},
   "source": [
    "## Pooling\n",
    "Re-construct your network and add a 2x2 [pooling layer](https://keras.io/layers/pooling/#maxpooling2d) immediately following your convolutional layer.\n",
    "\n",
    "Then compile and train the network."
   ]
  },
  {
   "cell_type": "code",
   "execution_count": 23,
   "metadata": {
    "collapsed": false
   },
   "outputs": [
    {
     "name": "stdout",
     "output_type": "stream",
     "text": [
      "____________________________________________________________________________________________________\n",
      "Layer (type)                     Output Shape          Param #     Connected to                     \n",
      "====================================================================================================\n",
      "convolution2d_2 (Convolution2D)  (None, 30, 30, 32)    896         convolution2d_input_2[0][0]      \n",
      "____________________________________________________________________________________________________\n",
      "maxpooling2d_1 (MaxPooling2D)    (None, 15, 15, 32)    0           convolution2d_2[0][0]            \n",
      "____________________________________________________________________________________________________\n",
      "activation_1 (Activation)        (None, 15, 15, 32)    0           maxpooling2d_1[0][0]             \n",
      "____________________________________________________________________________________________________\n",
      "flatten_2 (Flatten)              (None, 7200)          0           activation_1[0][0]               \n",
      "____________________________________________________________________________________________________\n",
      "dense_5 (Dense)                  (None, 128)           921728      flatten_2[0][0]                  \n",
      "____________________________________________________________________________________________________\n",
      "dense_6 (Dense)                  (None, 43)            5547        dense_5[0][0]                    \n",
      "====================================================================================================\n",
      "Total params: 928171\n",
      "____________________________________________________________________________________________________\n",
      "Train on 35288 samples, validate on 3921 samples\n",
      "Epoch 1/20\n",
      "35288/35288 [==============================] - 11s - loss: 1.4673 - acc: 0.6210 - val_loss: 0.5858 - val_acc: 0.8556\n",
      "Epoch 2/20\n",
      "35288/35288 [==============================] - 10s - loss: 0.3908 - acc: 0.9071 - val_loss: 0.2790 - val_acc: 0.9424\n",
      "Epoch 3/20\n",
      "35288/35288 [==============================] - 10s - loss: 0.2112 - acc: 0.9520 - val_loss: 0.1950 - val_acc: 0.9600\n",
      "Epoch 4/20\n",
      "35288/35288 [==============================] - 10s - loss: 0.1412 - acc: 0.9690 - val_loss: 0.1631 - val_acc: 0.9663\n",
      "Epoch 5/20\n",
      "35288/35288 [==============================] - 11s - loss: 0.1077 - acc: 0.9768 - val_loss: 0.1640 - val_acc: 0.9572\n",
      "Epoch 6/20\n",
      "35288/35288 [==============================] - 10s - loss: 0.0768 - acc: 0.9836 - val_loss: 0.1205 - val_acc: 0.9758\n",
      "Epoch 7/20\n",
      "35288/35288 [==============================] - 10s - loss: 0.0611 - acc: 0.9871 - val_loss: 0.1166 - val_acc: 0.9727\n",
      "Epoch 8/20\n",
      "35288/35288 [==============================] - 11s - loss: 0.0572 - acc: 0.9877 - val_loss: 0.1092 - val_acc: 0.9791\n",
      "Epoch 9/20\n",
      "35288/35288 [==============================] - 10s - loss: 0.0464 - acc: 0.9895 - val_loss: 0.1084 - val_acc: 0.9763\n",
      "Epoch 10/20\n",
      "35288/35288 [==============================] - 11s - loss: 0.0403 - acc: 0.9906 - val_loss: 0.1140 - val_acc: 0.9748\n",
      "Epoch 11/20\n",
      "35288/35288 [==============================] - 11s - loss: 0.0355 - acc: 0.9918 - val_loss: 0.1068 - val_acc: 0.9753\n",
      "Epoch 12/20\n",
      "35288/35288 [==============================] - 11s - loss: 0.0266 - acc: 0.9946 - val_loss: 0.0971 - val_acc: 0.9801\n",
      "Epoch 13/20\n",
      "35288/35288 [==============================] - 10s - loss: 0.0246 - acc: 0.9947 - val_loss: 0.1248 - val_acc: 0.9760\n",
      "Epoch 14/20\n",
      "35288/35288 [==============================] - 11s - loss: 0.0298 - acc: 0.9929 - val_loss: 0.1263 - val_acc: 0.9697\n",
      "Epoch 15/20\n",
      "35288/35288 [==============================] - 10s - loss: 0.0409 - acc: 0.9897 - val_loss: 0.1336 - val_acc: 0.9719\n",
      "Epoch 16/20\n",
      "35288/35288 [==============================] - 11s - loss: 0.0248 - acc: 0.9940 - val_loss: 0.0980 - val_acc: 0.9801\n",
      "Epoch 17/20\n",
      "35288/35288 [==============================] - 10s - loss: 0.0114 - acc: 0.9981 - val_loss: 0.0924 - val_acc: 0.9811\n",
      "Epoch 18/20\n",
      "35288/35288 [==============================] - 11s - loss: 0.0102 - acc: 0.9982 - val_loss: 0.0866 - val_acc: 0.9842\n",
      "Epoch 19/20\n",
      "35288/35288 [==============================] - 10s - loss: 0.0073 - acc: 0.9990 - val_loss: 0.0907 - val_acc: 0.9837\n",
      "Epoch 20/20\n",
      "35288/35288 [==============================] - 11s - loss: 0.0486 - acc: 0.9881 - val_loss: 0.1733 - val_acc: 0.9671\n"
     ]
    }
   ],
   "source": [
    "# TODO: Re-construct the network and add a pooling layer after the convolutional layer.\n",
    "\n",
    "from keras.layers import Conv2D, Flatten, MaxPooling2D, Activation\n",
    "\n",
    "Y_train = np_utils.to_categorical(y_train, 43)\n",
    "Y_val = np_utils.to_categorical(y_val, 43)\n",
    "\n",
    "\n",
    "model = Sequential()\n",
    "model.add(Conv2D(32, 3, 3, input_shape=(32, 32, 3)))\n",
    "model.add(MaxPooling2D((2,2)))\n",
    "model.add(Activation('relu'))\n",
    "model.add(Flatten())\n",
    "model.add(Dense(128, activation='relu'))\n",
    "model.add(Dense(43, activation='softmax'))\n",
    "\n",
    "model.summary()\n",
    "# TODO: Compile and train the model here.\n",
    "model.compile(loss='categorical_crossentropy',\n",
    "              optimizer='adam',\n",
    "              metrics=['accuracy'])\n",
    "history = model.fit(X_train, Y_train,\n",
    "                    batch_size=128, nb_epoch=20,\n",
    "                    verbose=1, validation_data=(X_val, Y_val))"
   ]
  },
  {
   "cell_type": "code",
   "execution_count": 24,
   "metadata": {
    "collapsed": true
   },
   "outputs": [],
   "source": [
    "# STOP: Do not change the tests below. Your implementation should pass these tests.\n",
    "assert(history.history['val_acc'][-1] > 0.95), \"The validation accuracy is: %.3f\" % history.history['val_acc'][-1]"
   ]
  },
  {
   "cell_type": "markdown",
   "metadata": {},
   "source": [
    "**Validation Accuracy**: .9671"
   ]
  },
  {
   "cell_type": "markdown",
   "metadata": {},
   "source": [
    "## Dropout\n",
    "Re-construct your network and add [dropout](https://keras.io/layers/core/#dropout) after the pooling layer. Set the dropout rate to 50%."
   ]
  },
  {
   "cell_type": "code",
   "execution_count": 25,
   "metadata": {
    "collapsed": false
   },
   "outputs": [
    {
     "name": "stdout",
     "output_type": "stream",
     "text": [
      "____________________________________________________________________________________________________\n",
      "Layer (type)                     Output Shape          Param #     Connected to                     \n",
      "====================================================================================================\n",
      "convolution2d_3 (Convolution2D)  (None, 30, 30, 32)    896         convolution2d_input_3[0][0]      \n",
      "____________________________________________________________________________________________________\n",
      "maxpooling2d_2 (MaxPooling2D)    (None, 15, 15, 32)    0           convolution2d_3[0][0]            \n",
      "____________________________________________________________________________________________________\n",
      "dropout_1 (Dropout)              (None, 15, 15, 32)    0           maxpooling2d_2[0][0]             \n",
      "____________________________________________________________________________________________________\n",
      "activation_2 (Activation)        (None, 15, 15, 32)    0           dropout_1[0][0]                  \n",
      "____________________________________________________________________________________________________\n",
      "flatten_3 (Flatten)              (None, 7200)          0           activation_2[0][0]               \n",
      "____________________________________________________________________________________________________\n",
      "dense_7 (Dense)                  (None, 128)           921728      flatten_3[0][0]                  \n",
      "____________________________________________________________________________________________________\n",
      "dense_8 (Dense)                  (None, 43)            5547        dense_7[0][0]                    \n",
      "====================================================================================================\n",
      "Total params: 928171\n",
      "____________________________________________________________________________________________________\n",
      "Train on 35288 samples, validate on 3921 samples\n",
      "Epoch 1/20\n",
      "35288/35288 [==============================] - 12s - loss: 1.4892 - acc: 0.6068 - val_loss: 0.5634 - val_acc: 0.8725\n",
      "Epoch 2/20\n",
      "35288/35288 [==============================] - 12s - loss: 0.4397 - acc: 0.8854 - val_loss: 0.2942 - val_acc: 0.9362\n",
      "Epoch 3/20\n",
      "35288/35288 [==============================] - 12s - loss: 0.2762 - acc: 0.9299 - val_loss: 0.2349 - val_acc: 0.9362\n",
      "Epoch 4/20\n",
      "35288/35288 [==============================] - 12s - loss: 0.2071 - acc: 0.9455 - val_loss: 0.1594 - val_acc: 0.9666\n",
      "Epoch 5/20\n",
      "35288/35288 [==============================] - 12s - loss: 0.1649 - acc: 0.9568 - val_loss: 0.1499 - val_acc: 0.9630\n",
      "Epoch 6/20\n",
      "35288/35288 [==============================] - 11s - loss: 0.1398 - acc: 0.9634 - val_loss: 0.1365 - val_acc: 0.9694\n",
      "Epoch 7/20\n",
      "35288/35288 [==============================] - 12s - loss: 0.1244 - acc: 0.9668 - val_loss: 0.1198 - val_acc: 0.9717\n",
      "Epoch 8/20\n",
      "35288/35288 [==============================] - 12s - loss: 0.1100 - acc: 0.9695 - val_loss: 0.1084 - val_acc: 0.9778\n",
      "Epoch 9/20\n",
      "35288/35288 [==============================] - 12s - loss: 0.1009 - acc: 0.9722 - val_loss: 0.1259 - val_acc: 0.9714\n",
      "Epoch 10/20\n",
      "35288/35288 [==============================] - 12s - loss: 0.0894 - acc: 0.9757 - val_loss: 0.0995 - val_acc: 0.9768\n",
      "Epoch 11/20\n",
      "35288/35288 [==============================] - 12s - loss: 0.0889 - acc: 0.9764 - val_loss: 0.0995 - val_acc: 0.9765\n",
      "Epoch 12/20\n",
      "35288/35288 [==============================] - 12s - loss: 0.0775 - acc: 0.9787 - val_loss: 0.0920 - val_acc: 0.9793\n",
      "Epoch 13/20\n",
      "35288/35288 [==============================] - 12s - loss: 0.0764 - acc: 0.9797 - val_loss: 0.0914 - val_acc: 0.9788\n",
      "Epoch 14/20\n",
      "35288/35288 [==============================] - 12s - loss: 0.0707 - acc: 0.9816 - val_loss: 0.0879 - val_acc: 0.9824\n",
      "Epoch 15/20\n",
      "35288/35288 [==============================] - 12s - loss: 0.0627 - acc: 0.9836 - val_loss: 0.0760 - val_acc: 0.9844\n",
      "Epoch 16/20\n",
      "35288/35288 [==============================] - 12s - loss: 0.0628 - acc: 0.9824 - val_loss: 0.0934 - val_acc: 0.9809\n",
      "Epoch 17/20\n",
      "35288/35288 [==============================] - 12s - loss: 0.0594 - acc: 0.9827 - val_loss: 0.0818 - val_acc: 0.9811\n",
      "Epoch 18/20\n",
      "35288/35288 [==============================] - 12s - loss: 0.0585 - acc: 0.9840 - val_loss: 0.0876 - val_acc: 0.9801\n",
      "Epoch 19/20\n",
      "35288/35288 [==============================] - 12s - loss: 0.0481 - acc: 0.9870 - val_loss: 0.0795 - val_acc: 0.9827\n",
      "Epoch 20/20\n",
      "35288/35288 [==============================] - 12s - loss: 0.0482 - acc: 0.9856 - val_loss: 0.0796 - val_acc: 0.9847\n"
     ]
    }
   ],
   "source": [
    "# TODO: Re-construct the network and add dropout after the pooling layer.\n",
    "\n",
    "from keras.layers import Dropout\n",
    "\n",
    "model = Sequential()\n",
    "model.add(Conv2D(32, 3, 3, input_shape=(32, 32, 3)))\n",
    "model.add(MaxPooling2D((2,2)))\n",
    "model.add((Dropout(0.5)))\n",
    "model.add(Activation('relu'))\n",
    "model.add(Flatten())\n",
    "model.add(Dense(128, activation='relu'))\n",
    "model.add(Dense(43, activation='softmax'))\n",
    "\n",
    "model.summary()\n",
    "# TODO: Compile and train the model here.\n",
    "model.compile(loss='categorical_crossentropy',\n",
    "              optimizer='adam',\n",
    "              metrics=['accuracy'])\n",
    "history = model.fit(X_train, Y_train,\n",
    "                    batch_size=128, nb_epoch=20,\n",
    "                    verbose=1, validation_data=(X_val, Y_val))"
   ]
  },
  {
   "cell_type": "code",
   "execution_count": 26,
   "metadata": {
    "collapsed": true
   },
   "outputs": [],
   "source": [
    "# STOP: Do not change the tests below. Your implementation should pass these tests.\n",
    "assert(history.history['val_acc'][-1] > 0.95), \"The validation accuracy is: %.3f\" % history.history['val_acc'][-1]"
   ]
  },
  {
   "cell_type": "markdown",
   "metadata": {
    "collapsed": true
   },
   "source": [
    "**Validation Accuracy**: 0.9847"
   ]
  },
  {
   "cell_type": "markdown",
   "metadata": {},
   "source": [
    "## Optimization\n",
    "Congratulations! You've built a neural network with convolutions, pooling, dropout, and fully-connected layers, all in just a few lines of code.\n",
    "\n",
    "Have fun with the model and see how well you can do! Add more layers, or regularization, or different padding, or batches, or more training epochs.\n",
    "\n",
    "What is the best validation accuracy you can achieve?"
   ]
  },
  {
   "cell_type": "code",
   "execution_count": null,
   "metadata": {
    "collapsed": true
   },
   "outputs": [],
   "source": []
  },
  {
   "cell_type": "markdown",
   "metadata": {},
   "source": [
    "**Best Validation Accuracy:** (fill in here)"
   ]
  },
  {
   "cell_type": "markdown",
   "metadata": {},
   "source": [
    "## Testing\n",
    "Once you've picked out your best model, it's time to test it.\n",
    "\n",
    "Load up the test data and use the [`evaluate()` method](https://keras.io/models/model/#evaluate) to see how well it does.\n",
    "\n",
    "Hint 1: The `evaluate()` method should return an array of numbers. Use the `metrics_names()` method to get the labels."
   ]
  },
  {
   "cell_type": "code",
   "execution_count": 27,
   "metadata": {
    "collapsed": false
   },
   "outputs": [
    {
     "name": "stdout",
     "output_type": "stream",
     "text": [
      "12608/12630 [============================>.] - ETA: 0s"
     ]
    },
    {
     "data": {
      "text/plain": [
       "[0.49937287483494125, 0.91163895483160429]"
      ]
     },
     "execution_count": 27,
     "metadata": {},
     "output_type": "execute_result"
    }
   ],
   "source": [
    "# TODO: Load test data\n",
    "with open(testing_file, mode='rb') as f:\n",
    "    test = pickle.load(f)    \n",
    "X_test, y_test = test['features'], test['labels']\n",
    "\n",
    "# TODO: Preprocess data & one-hot encode the labels\n",
    "X_test = X_test.astype('float32')\n",
    "X_test /= 255\n",
    "X_test -= 0.5\n",
    "Y_test = np_utils.to_categorical(y_test, 43)\n",
    "\n",
    "# TODO: Evaluate model on test data\n",
    "model.evaluate(X_test, Y_test)"
   ]
  },
  {
   "cell_type": "markdown",
   "metadata": {},
   "source": [
    "**Test Accuracy:** 0.9116"
   ]
  },
  {
   "cell_type": "markdown",
   "metadata": {},
   "source": [
    "## Summary\n",
    "Keras is a great tool to use if you want to quickly build a neural network and evaluate performance."
   ]
  }
 ],
 "metadata": {
  "anaconda-cloud": {},
  "kernelspec": {
   "display_name": "Python [default]",
   "language": "python",
   "name": "python3"
  },
  "language_info": {
   "codemirror_mode": {
    "name": "ipython",
    "version": 3
   },
   "file_extension": ".py",
   "mimetype": "text/x-python",
   "name": "python",
   "nbconvert_exporter": "python",
   "pygments_lexer": "ipython3",
   "version": "3.5.2"
  }
 },
 "nbformat": 4,
 "nbformat_minor": 0
}
